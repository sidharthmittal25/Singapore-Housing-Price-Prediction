{
 "cells": [
  {
   "cell_type": "code",
   "execution_count": 1,
   "metadata": {},
   "outputs": [],
   "source": [
    "import pandas as pd\n",
    "import numpy as np\n",
    "import matplotlib.pyplot as plt\n",
    "import seaborn as sns\n",
    "from statsmodels.tsa.seasonal import seasonal_decompose\n",
    "pd.options.display.float_format = '{:.4f}'.format\n",
    "#arr_roi = []\n",
    "import glob\n",
    "import pmdarima as pm"
   ]
  },
  {
   "cell_type": "code",
   "execution_count": 2,
   "metadata": {},
   "outputs": [],
   "source": [
    "path = r'C:\\Users\\sidha\\Desktop\\My Files - Lenovo\\NUS\\Foundation in BA\\Group Assignemnt 1\\Step 1 data\\HDB'\n",
    "filenames = glob.glob(path + \"/*.csv\")\n",
    "\n",
    "df1 = pd.DataFrame()\n",
    "\n",
    "for filename in filenames:\n",
    "    df1 = df1.append([pd.read_csv(filename)])"
   ]
  },
  {
   "cell_type": "code",
   "execution_count": 3,
   "metadata": {},
   "outputs": [
    {
     "data": {
      "text/html": [
       "<div>\n",
       "<style scoped>\n",
       "    .dataframe tbody tr th:only-of-type {\n",
       "        vertical-align: middle;\n",
       "    }\n",
       "\n",
       "    .dataframe tbody tr th {\n",
       "        vertical-align: top;\n",
       "    }\n",
       "\n",
       "    .dataframe thead th {\n",
       "        text-align: right;\n",
       "    }\n",
       "</style>\n",
       "<table border=\"1\" class=\"dataframe\">\n",
       "  <thead>\n",
       "    <tr style=\"text-align: right;\">\n",
       "      <th></th>\n",
       "      <th>month</th>\n",
       "      <th>town</th>\n",
       "      <th>flat_type</th>\n",
       "      <th>block</th>\n",
       "      <th>street_name</th>\n",
       "      <th>storey_range</th>\n",
       "      <th>floor_area_sqm</th>\n",
       "      <th>flat_model</th>\n",
       "      <th>lease_commence_date</th>\n",
       "      <th>resale_price</th>\n",
       "      <th>remaining_lease</th>\n",
       "    </tr>\n",
       "  </thead>\n",
       "  <tbody>\n",
       "    <tr>\n",
       "      <th>0</th>\n",
       "      <td>1990-01</td>\n",
       "      <td>ANG MO KIO</td>\n",
       "      <td>1 ROOM</td>\n",
       "      <td>309</td>\n",
       "      <td>ANG MO KIO AVE 1</td>\n",
       "      <td>10 TO 12</td>\n",
       "      <td>31.0000</td>\n",
       "      <td>IMPROVED</td>\n",
       "      <td>1977</td>\n",
       "      <td>9000.0000</td>\n",
       "      <td>NaN</td>\n",
       "    </tr>\n",
       "    <tr>\n",
       "      <th>1</th>\n",
       "      <td>1990-01</td>\n",
       "      <td>ANG MO KIO</td>\n",
       "      <td>1 ROOM</td>\n",
       "      <td>309</td>\n",
       "      <td>ANG MO KIO AVE 1</td>\n",
       "      <td>04 TO 06</td>\n",
       "      <td>31.0000</td>\n",
       "      <td>IMPROVED</td>\n",
       "      <td>1977</td>\n",
       "      <td>6000.0000</td>\n",
       "      <td>NaN</td>\n",
       "    </tr>\n",
       "    <tr>\n",
       "      <th>2</th>\n",
       "      <td>1990-01</td>\n",
       "      <td>ANG MO KIO</td>\n",
       "      <td>1 ROOM</td>\n",
       "      <td>309</td>\n",
       "      <td>ANG MO KIO AVE 1</td>\n",
       "      <td>10 TO 12</td>\n",
       "      <td>31.0000</td>\n",
       "      <td>IMPROVED</td>\n",
       "      <td>1977</td>\n",
       "      <td>8000.0000</td>\n",
       "      <td>NaN</td>\n",
       "    </tr>\n",
       "    <tr>\n",
       "      <th>3</th>\n",
       "      <td>1990-01</td>\n",
       "      <td>ANG MO KIO</td>\n",
       "      <td>1 ROOM</td>\n",
       "      <td>309</td>\n",
       "      <td>ANG MO KIO AVE 1</td>\n",
       "      <td>07 TO 09</td>\n",
       "      <td>31.0000</td>\n",
       "      <td>IMPROVED</td>\n",
       "      <td>1977</td>\n",
       "      <td>6000.0000</td>\n",
       "      <td>NaN</td>\n",
       "    </tr>\n",
       "    <tr>\n",
       "      <th>4</th>\n",
       "      <td>1990-01</td>\n",
       "      <td>ANG MO KIO</td>\n",
       "      <td>3 ROOM</td>\n",
       "      <td>216</td>\n",
       "      <td>ANG MO KIO AVE 1</td>\n",
       "      <td>04 TO 06</td>\n",
       "      <td>73.0000</td>\n",
       "      <td>NEW GENERATION</td>\n",
       "      <td>1976</td>\n",
       "      <td>47200.0000</td>\n",
       "      <td>NaN</td>\n",
       "    </tr>\n",
       "  </tbody>\n",
       "</table>\n",
       "</div>"
      ],
      "text/plain": [
       "     month        town flat_type block       street_name storey_range  \\\n",
       "0  1990-01  ANG MO KIO    1 ROOM   309  ANG MO KIO AVE 1     10 TO 12   \n",
       "1  1990-01  ANG MO KIO    1 ROOM   309  ANG MO KIO AVE 1     04 TO 06   \n",
       "2  1990-01  ANG MO KIO    1 ROOM   309  ANG MO KIO AVE 1     10 TO 12   \n",
       "3  1990-01  ANG MO KIO    1 ROOM   309  ANG MO KIO AVE 1     07 TO 09   \n",
       "4  1990-01  ANG MO KIO    3 ROOM   216  ANG MO KIO AVE 1     04 TO 06   \n",
       "\n",
       "   floor_area_sqm      flat_model  lease_commence_date  resale_price  \\\n",
       "0         31.0000        IMPROVED                 1977     9000.0000   \n",
       "1         31.0000        IMPROVED                 1977     6000.0000   \n",
       "2         31.0000        IMPROVED                 1977     8000.0000   \n",
       "3         31.0000        IMPROVED                 1977     6000.0000   \n",
       "4         73.0000  NEW GENERATION                 1976    47200.0000   \n",
       "\n",
       "  remaining_lease  \n",
       "0             NaN  \n",
       "1             NaN  \n",
       "2             NaN  \n",
       "3             NaN  \n",
       "4             NaN  "
      ]
     },
     "execution_count": 3,
     "metadata": {},
     "output_type": "execute_result"
    }
   ],
   "source": [
    "df1.head()"
   ]
  },
  {
   "cell_type": "code",
   "execution_count": 24,
   "metadata": {},
   "outputs": [
    {
     "name": "stderr",
     "output_type": "stream",
     "text": [
      "<ipython-input-24-71e57c751708>:2: SettingWithCopyWarning: \n",
      "A value is trying to be set on a copy of a slice from a DataFrame.\n",
      "Try using .loc[row_indexer,col_indexer] = value instead\n",
      "\n",
      "See the caveats in the documentation: https://pandas.pydata.org/pandas-docs/stable/user_guide/indexing.html#returning-a-view-versus-a-copy\n",
      "  df1_town['unit psm'] = df1_town['resale_price'] / df1_town['floor_area_sqm']\n"
     ]
    },
    {
     "name": "stdout",
     "output_type": "stream",
     "text": [
      "                               SARIMAX Results                                \n",
      "==============================================================================\n",
      "Dep. Variable:                      y   No. Observations:                  120\n",
      "Model:               SARIMAX(1, 1, 0)   Log Likelihood                -687.154\n",
      "Date:                Mon, 28 Sep 2020   AIC                           1378.309\n",
      "Time:                        15:07:01   BIC                           1383.867\n",
      "Sample:                             0   HQIC                          1380.566\n",
      "                                - 120                                         \n",
      "Covariance Type:                  opg                                         \n",
      "==============================================================================\n",
      "                 coef    std err          z      P>|z|      [0.025      0.975]\n",
      "------------------------------------------------------------------------------\n",
      "ar.L1         -0.4492      0.070     -6.438      0.000      -0.586      -0.312\n",
      "sigma2      6059.3955    554.817     10.921      0.000    4971.974    7146.817\n",
      "===================================================================================\n",
      "Ljung-Box (Q):                       39.29   Jarque-Bera (JB):                67.58\n",
      "Prob(Q):                              0.50   Prob(JB):                         0.00\n",
      "Heteroskedasticity (H):               2.54   Skew:                            -0.39\n",
      "Prob(H) (two-sided):                  0.00   Kurtosis:                         6.61\n",
      "===================================================================================\n",
      "\n",
      "Warnings:\n",
      "[1] Covariance matrix calculated using the outer product of gradients (complex-step).\n",
      "[0.63321831]\n",
      "[3934.16010092 3918.09064779 3925.30897877 3922.06653476 3923.52302701\n",
      " 3922.8687768  3923.16266325 3923.03065069 3923.08995018 3923.0633131\n",
      " 3923.07527836 3923.06990362 3923.07231793 3923.07123343 3923.07172058\n",
      " 3923.07150176 3923.07160005 3923.0715559  3923.07157573 3923.07156682\n",
      " 3923.07157082 3923.07156903 3923.07156983 3923.07156947 3923.07156963\n",
      " 3923.07156956 3923.07156959 3923.07156958 3923.07156959 3923.07156958\n",
      " 3923.07156958 3923.07156958 3923.07156958 3923.07156958 3923.07156958\n",
      " 3923.07156958]\n"
     ]
    }
   ],
   "source": [
    "df1_town = df1[df1['town'] == 'JURONG WEST']\n",
    "df1_town['unit psm'] = df1_town['resale_price'] / df1_town['floor_area_sqm']\n",
    "df1_town_monthly = df1_town.groupby(['month']).agg(avg_transaction_price = ('unit psm', 'mean'))\n",
    "\n",
    "model_1 = pm.auto_arima(df1_town_monthly.loc['2010-09':'2020-08',:], seasonal = True, m=12, suppress_warnings=True) # m=seasonal length\n",
    "print(model_1.summary())\n",
    "prediction = model_1.predict(36, return_conf_int=False,alpha=0.05)\n",
    "roi = ((prediction[-1]-df1_town_monthly.loc['2020-08'].values)/df1_town_monthly.loc['2020-08'].values)*100\n",
    "print(roi)\n",
    "print(prediction)"
   ]
  },
  {
   "cell_type": "code",
   "execution_count": 25,
   "metadata": {},
   "outputs": [
    {
     "name": "stderr",
     "output_type": "stream",
     "text": [
      "<ipython-input-25-40c606577620>:2: SettingWithCopyWarning: \n",
      "A value is trying to be set on a copy of a slice from a DataFrame.\n",
      "Try using .loc[row_indexer,col_indexer] = value instead\n",
      "\n",
      "See the caveats in the documentation: https://pandas.pydata.org/pandas-docs/stable/user_guide/indexing.html#returning-a-view-versus-a-copy\n",
      "  df1_town['unit psm'] = df1_town['resale_price'] / df1_town['floor_area_sqm']\n"
     ]
    },
    {
     "name": "stdout",
     "output_type": "stream",
     "text": [
      "[3.71697132]\n",
      "[5409.71557503 5428.45719764 5452.91458544 5469.76451422 5485.23155455\n",
      " 5497.5576942  5508.06210528 5516.72831173 5523.99002861 5530.02949029\n",
      " 5535.07052071 5539.2709055  5542.77374319 5545.69370578 5548.12825215\n",
      " 5550.15789057 5551.85003955 5553.26078688 5554.4369413  5555.41750837\n",
      " 5556.23501502 5556.91657611 5557.48479873 5557.9585301  5558.35348346\n",
      " 5558.68275899 5558.95727844 5559.18614734 5559.37695703 5559.53603649\n",
      " 5559.6686622  5559.77923324 5559.87141714 5559.94827154 5560.01234561\n",
      " 5560.06576465]\n"
     ]
    }
   ],
   "source": [
    "df1_town = df1[df1['town'] == 'KALLANG/WHAMPOA']\n",
    "df1_town['unit psm'] = df1_town['resale_price'] / df1_town['floor_area_sqm']\n",
    "df1_town_monthly = df1_town.groupby(['month']).agg(avg_transaction_price = ('unit psm', 'mean'))\n",
    "\n",
    "model_1 = pm.auto_arima(df1_town_monthly.loc['2010-09':'2020-08',:], seasonal = True, m=12, suppress_warnings=True) # m=seasonal length\n",
    "prediction = model_1.predict(36, return_conf_int=False,alpha=0.05)\n",
    "roi = ((prediction[-1]-df1_town_monthly.loc['2020-08'].values)/df1_town_monthly.loc['2020-08'].values)*100\n",
    "print(roi)\n",
    "print(prediction)"
   ]
  },
  {
   "cell_type": "code",
   "execution_count": 26,
   "metadata": {},
   "outputs": [
    {
     "name": "stderr",
     "output_type": "stream",
     "text": [
      "<ipython-input-26-3513585d74d5>:2: SettingWithCopyWarning: \n",
      "A value is trying to be set on a copy of a slice from a DataFrame.\n",
      "Try using .loc[row_indexer,col_indexer] = value instead\n",
      "\n",
      "See the caveats in the documentation: https://pandas.pydata.org/pandas-docs/stable/user_guide/indexing.html#returning-a-view-versus-a-copy\n",
      "  df1_town['unit psm'] = df1_town['resale_price'] / df1_town['floor_area_sqm']\n"
     ]
    },
    {
     "name": "stdout",
     "output_type": "stream",
     "text": [
      "[2.80209035]\n",
      "[5703.76253112 5731.15878356 5753.6517401  5772.11897736 5787.28100604\n",
      " 5799.72938207 5809.94978655 5818.34097488 5825.23033447 5830.88665795\n",
      " 5835.53063027 5839.3434389  5842.47384292 5845.04397699 5847.15411646\n",
      " 5848.88658975 5850.30899037 5851.47681416 5852.43562448 5853.22282992\n",
      " 5853.86914379 5854.39978241 5854.83544898 5855.19314131 5855.48681498\n",
      " 5855.72792785 5855.92588709 5856.08841621 5856.22185637 5856.33141382\n",
      " 5856.42136302 5856.4952134  5856.55584626 5856.60562725 5856.64649859\n",
      " 5856.6800549 ]\n"
     ]
    }
   ],
   "source": [
    "df1_town = df1[df1['town'] == 'MARINE PARADE']\n",
    "df1_town['unit psm'] = df1_town['resale_price'] / df1_town['floor_area_sqm']\n",
    "df1_town_monthly = df1_town.groupby(['month']).agg(avg_transaction_price = ('unit psm', 'mean'))\n",
    "\n",
    "model_1 = pm.auto_arima(df1_town_monthly.loc['2010-09':'2020-08',:], seasonal = True, m=12, suppress_warnings=True) # m=seasonal length\n",
    "prediction = model_1.predict(36, return_conf_int=False,alpha=0.05)\n",
    "roi = ((prediction[-1]-df1_town_monthly.loc['2020-08'].values)/df1_town_monthly.loc['2020-08'].values)*100\n",
    "print(roi)\n",
    "print(prediction)"
   ]
  },
  {
   "cell_type": "code",
   "execution_count": 27,
   "metadata": {},
   "outputs": [
    {
     "name": "stderr",
     "output_type": "stream",
     "text": [
      "<ipython-input-27-eabb3c55a71c>:2: SettingWithCopyWarning: \n",
      "A value is trying to be set on a copy of a slice from a DataFrame.\n",
      "Try using .loc[row_indexer,col_indexer] = value instead\n",
      "\n",
      "See the caveats in the documentation: https://pandas.pydata.org/pandas-docs/stable/user_guide/indexing.html#returning-a-view-versus-a-copy\n",
      "  df1_town['unit psm'] = df1_town['resale_price'] / df1_town['floor_area_sqm']\n"
     ]
    },
    {
     "name": "stdout",
     "output_type": "stream",
     "text": [
      "[-4.59832912]\n",
      "[4341.4783961  4308.1692143  4302.26923367 4288.06867128 4277.37869149\n",
      " 4266.2449935  4255.94583458 4246.02491682 4236.60296529 4227.61068783\n",
      " 4219.0432078  4210.87558052 4203.09076339 4195.67027734 4188.59724981\n",
      " 4181.85535218 4175.42910196 4169.30371439 4163.46510593 4157.89984941\n",
      " 4152.59514726 4147.53880077 4142.71918244 4138.12520912 4133.74631656\n",
      " 4129.5724351  4125.59396653 4121.80176199 4118.18710099 4114.74167127\n",
      " 4111.45754977 4108.32718434 4105.34337645 4102.49926455 4099.78830835\n",
      " 4097.20427376]\n"
     ]
    }
   ],
   "source": [
    "df1_town = df1[df1['town'] == 'PASIR RIS']\n",
    "df1_town['unit psm'] = df1_town['resale_price'] / df1_town['floor_area_sqm']\n",
    "df1_town_monthly = df1_town.groupby(['month']).agg(avg_transaction_price = ('unit psm', 'mean'))\n",
    "\n",
    "model_1 = pm.auto_arima(df1_town_monthly.loc['2010-09':'2020-08',:], seasonal = True, m=12, suppress_warnings=True) # m=seasonal length\n",
    "prediction = model_1.predict(36, return_conf_int=False,alpha=0.05)\n",
    "roi = ((prediction[-1]-df1_town_monthly.loc['2020-08'].values)/df1_town_monthly.loc['2020-08'].values)*100\n",
    "print(roi)\n",
    "print(prediction)"
   ]
  },
  {
   "cell_type": "code",
   "execution_count": 28,
   "metadata": {},
   "outputs": [
    {
     "name": "stderr",
     "output_type": "stream",
     "text": [
      "<ipython-input-28-36ef76bf6bdf>:2: SettingWithCopyWarning: \n",
      "A value is trying to be set on a copy of a slice from a DataFrame.\n",
      "Try using .loc[row_indexer,col_indexer] = value instead\n",
      "\n",
      "See the caveats in the documentation: https://pandas.pydata.org/pandas-docs/stable/user_guide/indexing.html#returning-a-view-versus-a-copy\n",
      "  df1_town['unit psm'] = df1_town['resale_price'] / df1_town['floor_area_sqm']\n"
     ]
    },
    {
     "name": "stdout",
     "output_type": "stream",
     "text": [
      "[-4.69913777]\n"
     ]
    }
   ],
   "source": [
    "df1_town = df1[df1['town'] == 'PUNGGOL']\n",
    "df1_town['unit psm'] = df1_town['resale_price'] / df1_town['floor_area_sqm']\n",
    "df1_town_monthly = df1_town.groupby(['month']).agg(avg_transaction_price = ('unit psm', 'mean'))\n",
    "\n",
    "model_1 = pm.auto_arima(df1_town_monthly.loc['2010-09':'2020-08',:], seasonal = True, m=12, suppress_warnings=True) # m=seasonal length\n",
    "prediction = model_1.predict(36, return_conf_int=False,alpha=0.05)\n",
    "roi = ((prediction[-1]-df1_town_monthly.loc['2020-08'].values)/df1_town_monthly.loc['2020-08'].values)*100\n",
    "print(roi)  "
   ]
  },
  {
   "cell_type": "code",
   "execution_count": 29,
   "metadata": {},
   "outputs": [
    {
     "name": "stderr",
     "output_type": "stream",
     "text": [
      "<ipython-input-29-a72f1ba9e6ef>:2: SettingWithCopyWarning: \n",
      "A value is trying to be set on a copy of a slice from a DataFrame.\n",
      "Try using .loc[row_indexer,col_indexer] = value instead\n",
      "\n",
      "See the caveats in the documentation: https://pandas.pydata.org/pandas-docs/stable/user_guide/indexing.html#returning-a-view-versus-a-copy\n",
      "  df1_town['unit psm'] = df1_town['resale_price'] / df1_town['floor_area_sqm']\n"
     ]
    },
    {
     "name": "stdout",
     "output_type": "stream",
     "text": [
      "[-0.74641592]\n"
     ]
    }
   ],
   "source": [
    "df1_town = df1[df1['town'] == 'QUEENSTOWN']\n",
    "df1_town['unit psm'] = df1_town['resale_price'] / df1_town['floor_area_sqm']\n",
    "df1_town_monthly = df1_town.groupby(['month']).agg(avg_transaction_price = ('unit psm', 'mean'))\n",
    "model_1 = pm.auto_arima(df1_town_monthly.loc['2010-09':'2020-08',:], seasonal = True, m=12, suppress_warnings=True) # m=seasonal length\n",
    "prediction = model_1.predict(36, return_conf_int=False,alpha=0.05)\n",
    "roi = ((prediction[-1]-df1_town_monthly.loc['2020-08'].values)/df1_town_monthly.loc['2020-08'].values)*100\n",
    "print(roi)  "
   ]
  },
  {
   "cell_type": "code",
   "execution_count": 30,
   "metadata": {},
   "outputs": [
    {
     "name": "stderr",
     "output_type": "stream",
     "text": [
      "<ipython-input-30-bd64bcee4d87>:2: SettingWithCopyWarning: \n",
      "A value is trying to be set on a copy of a slice from a DataFrame.\n",
      "Try using .loc[row_indexer,col_indexer] = value instead\n",
      "\n",
      "See the caveats in the documentation: https://pandas.pydata.org/pandas-docs/stable/user_guide/indexing.html#returning-a-view-versus-a-copy\n",
      "  df1_town['unit psm'] = df1_town['resale_price'] / df1_town['floor_area_sqm']\n"
     ]
    },
    {
     "name": "stdout",
     "output_type": "stream",
     "text": [
      "[-0.39155776]\n",
      "[3873.14238327 3880.34031158 3877.82267151 3878.70327371 3878.39526295\n",
      " 3878.50299676 3878.4653144  3878.47849467 3878.47388457 3878.47549705\n",
      " 3878.47493305 3878.47513032 3878.47506132 3878.47508546 3878.47507702\n",
      " 3878.47507997 3878.47507894 3878.4750793  3878.47507917 3878.47507921\n",
      " 3878.4750792  3878.4750792  3878.4750792  3878.4750792  3878.4750792\n",
      " 3878.4750792  3878.4750792  3878.4750792  3878.4750792  3878.4750792\n",
      " 3878.4750792  3878.4750792  3878.4750792  3878.4750792  3878.4750792\n",
      " 3878.4750792 ]\n"
     ]
    }
   ],
   "source": [
    "df1_town = df1[df1['town'] == 'SEMBAWANG']\n",
    "df1_town['unit psm'] = df1_town['resale_price'] / df1_town['floor_area_sqm']\n",
    "df1_town_monthly = df1_town.groupby(['month']).agg(avg_transaction_price = ('unit psm', 'mean'))\n",
    "\n",
    "model_1 = pm.auto_arima(df1_town_monthly.loc['2010-09':'2020-08',:], seasonal = True, m=12, suppress_warnings=True) # m=seasonal length\n",
    "prediction = model_1.predict(36, return_conf_int=False,alpha=0.05)\n",
    "roi = ((prediction[-1]-df1_town_monthly.loc['2020-08'].values)/df1_town_monthly.loc['2020-08'].values)*100\n",
    "print(roi)  \n",
    "print(prediction)"
   ]
  },
  {
   "cell_type": "code",
   "execution_count": 31,
   "metadata": {},
   "outputs": [
    {
     "name": "stderr",
     "output_type": "stream",
     "text": [
      "<ipython-input-31-4546e7bd34d5>:2: SettingWithCopyWarning: \n",
      "A value is trying to be set on a copy of a slice from a DataFrame.\n",
      "Try using .loc[row_indexer,col_indexer] = value instead\n",
      "\n",
      "See the caveats in the documentation: https://pandas.pydata.org/pandas-docs/stable/user_guide/indexing.html#returning-a-view-versus-a-copy\n",
      "  df1_town['unit psm'] = df1_town['resale_price'] / df1_town['floor_area_sqm']\n"
     ]
    },
    {
     "name": "stdout",
     "output_type": "stream",
     "text": [
      "[0.30873689]\n",
      "[4614.0643092  4609.93056251 4610.9049861  4610.67529101 4610.72943567\n",
      " 4610.71667247 4610.71968106 4610.71897186 4610.71913904 4610.71909963\n",
      " 4610.71910892 4610.71910673 4610.71910725 4610.71910713 4610.71910715\n",
      " 4610.71910715 4610.71910715 4610.71910715 4610.71910715 4610.71910715\n",
      " 4610.71910715 4610.71910715 4610.71910715 4610.71910715 4610.71910715\n",
      " 4610.71910715 4610.71910715 4610.71910715 4610.71910715 4610.71910715\n",
      " 4610.71910715 4610.71910715 4610.71910715 4610.71910715 4610.71910715\n",
      " 4610.71910715]\n"
     ]
    }
   ],
   "source": [
    "df1_town = df1[df1['town'] == 'SENGKANG']\n",
    "df1_town['unit psm'] = df1_town['resale_price'] / df1_town['floor_area_sqm']\n",
    "df1_town_monthly = df1_town.groupby(['month']).agg(avg_transaction_price = ('unit psm', 'mean'))\n",
    "\n",
    "model_1 = pm.auto_arima(df1_town_monthly.loc['2010-09':'2020-08',:], seasonal = True, m=12, suppress_warnings=True) # m=seasonal length\n",
    "prediction = model_1.predict(36, return_conf_int=False,alpha=0.05)\n",
    "roi = ((prediction[-1]-df1_town_monthly.loc['2020-08'].values)/df1_town_monthly.loc['2020-08'].values)*100\n",
    "print(roi)  \n",
    "print(prediction)"
   ]
  },
  {
   "cell_type": "code",
   "execution_count": 32,
   "metadata": {},
   "outputs": [
    {
     "name": "stderr",
     "output_type": "stream",
     "text": [
      "<ipython-input-32-a4b16cdb5756>:2: SettingWithCopyWarning: \n",
      "A value is trying to be set on a copy of a slice from a DataFrame.\n",
      "Try using .loc[row_indexer,col_indexer] = value instead\n",
      "\n",
      "See the caveats in the documentation: https://pandas.pydata.org/pandas-docs/stable/user_guide/indexing.html#returning-a-view-versus-a-copy\n",
      "  df1_town['unit psm'] = df1_town['resale_price'] / df1_town['floor_area_sqm']\n"
     ]
    },
    {
     "name": "stdout",
     "output_type": "stream",
     "text": [
      "[-2.29479344]\n",
      "[4769.01483082 4784.7352337  4804.43714937 4832.05459205 4806.95164001\n",
      " 4691.40184856 4822.81933961 4862.27037621 4919.59575601 4798.87673695\n",
      " 4753.06546733 4846.07869772 4815.64963405 4838.03716393 4795.43971006\n",
      " 4796.69068431 4810.47737102 4744.57639854 4783.5026942  4833.09773009\n",
      " 4891.96116417 4790.96909347 4790.49091716 4820.57242208 4803.32024046\n",
      " 4776.76787885 4819.87145276 4813.51265657 4800.90381177 4845.35529066\n",
      " 4819.22844346 4786.14308358 4748.34140616 4812.52045246 4812.20437388\n",
      " 4792.56103047]\n"
     ]
    }
   ],
   "source": [
    "df1_town = df1[df1['town'] == 'SERANGOON']\n",
    "df1_town['unit psm'] = df1_town['resale_price'] / df1_town['floor_area_sqm']\n",
    "df1_town_monthly = df1_town.groupby(['month']).agg(avg_transaction_price = ('unit psm', 'mean'))\n",
    "\n",
    "model_1 = pm.auto_arima(df1_town_monthly.loc['2010-09':'2020-08',:], seasonal = True, m=12, suppress_warnings=True) # m=seasonal length\n",
    "prediction = model_1.predict(36, return_conf_int=False,alpha=0.05)\n",
    "roi = ((prediction[-1]-df1_town_monthly.loc['2020-08'].values)/df1_town_monthly.loc['2020-08'].values)*100\n",
    "print(roi)  \n",
    "print(prediction)"
   ]
  },
  {
   "cell_type": "code",
   "execution_count": 33,
   "metadata": {},
   "outputs": [
    {
     "name": "stderr",
     "output_type": "stream",
     "text": [
      "<ipython-input-33-15bcc9ac31f9>:2: SettingWithCopyWarning: \n",
      "A value is trying to be set on a copy of a slice from a DataFrame.\n",
      "Try using .loc[row_indexer,col_indexer] = value instead\n",
      "\n",
      "See the caveats in the documentation: https://pandas.pydata.org/pandas-docs/stable/user_guide/indexing.html#returning-a-view-versus-a-copy\n",
      "  df1_town['unit psm'] = df1_town['resale_price'] / df1_town['floor_area_sqm']\n"
     ]
    },
    {
     "name": "stdout",
     "output_type": "stream",
     "text": [
      "[-3.91651014]\n",
      "[4644.36500963 4757.19284077 4665.02391164 4740.83938621 4693.72305744\n",
      " 4681.73145579 4669.30158401 4630.50824818 4514.8688826  4618.12345636\n",
      " 4570.27952537 4626.51521904 4583.06723422 4573.57166832 4576.84959725\n",
      " 4555.79234688 4552.19531004 4550.58839677 4544.56908486 4545.20124999\n",
      " 4555.02908269 4538.16369795 4537.85349831 4525.72010194 4530.50381995\n",
      " 4532.35697718 4522.06438619 4527.27028938 4522.71782521 4517.84018579\n",
      " 4515.43842283 4509.90901524 4499.81303544 4503.99848305 4499.74777302\n",
      " 4501.94067416]\n"
     ]
    }
   ],
   "source": [
    "df1_town = df1[df1['town'] == 'TAMPINES']\n",
    "df1_town['unit psm'] = df1_town['resale_price'] / df1_town['floor_area_sqm']\n",
    "df1_town_monthly = df1_town.groupby(['month']).agg(avg_transaction_price = ('unit psm', 'mean'))\n",
    "\n",
    "model_1 = pm.auto_arima(df1_town_monthly.loc['2010-09':'2020-08',:], seasonal = True, m=12, suppress_warnings=True) # m=seasonal length\n",
    "prediction = model_1.predict(36, return_conf_int=False,alpha=0.05)\n",
    "roi = ((prediction[-1]-df1_town_monthly.loc['2020-08'].values)/df1_town_monthly.loc['2020-08'].values)*100\n",
    "print(roi)  \n",
    "print(prediction)"
   ]
  },
  {
   "cell_type": "code",
   "execution_count": 34,
   "metadata": {},
   "outputs": [
    {
     "name": "stderr",
     "output_type": "stream",
     "text": [
      "<ipython-input-34-15bcc9ac31f9>:2: SettingWithCopyWarning: \n",
      "A value is trying to be set on a copy of a slice from a DataFrame.\n",
      "Try using .loc[row_indexer,col_indexer] = value instead\n",
      "\n",
      "See the caveats in the documentation: https://pandas.pydata.org/pandas-docs/stable/user_guide/indexing.html#returning-a-view-versus-a-copy\n",
      "  df1_town['unit psm'] = df1_town['resale_price'] / df1_town['floor_area_sqm']\n"
     ]
    },
    {
     "name": "stdout",
     "output_type": "stream",
     "text": [
      "[-3.91651014]\n",
      "[4644.36500963 4757.19284077 4665.02391164 4740.83938621 4693.72305744\n",
      " 4681.73145579 4669.30158401 4630.50824818 4514.8688826  4618.12345636\n",
      " 4570.27952537 4626.51521904 4583.06723422 4573.57166832 4576.84959725\n",
      " 4555.79234688 4552.19531004 4550.58839677 4544.56908486 4545.20124999\n",
      " 4555.02908269 4538.16369795 4537.85349831 4525.72010194 4530.50381995\n",
      " 4532.35697718 4522.06438619 4527.27028938 4522.71782521 4517.84018579\n",
      " 4515.43842283 4509.90901524 4499.81303544 4503.99848305 4499.74777302\n",
      " 4501.94067416]\n"
     ]
    }
   ],
   "source": [
    "df1_town = df1[df1['town'] == 'TAMPINES']\n",
    "df1_town['unit psm'] = df1_town['resale_price'] / df1_town['floor_area_sqm']\n",
    "df1_town_monthly = df1_town.groupby(['month']).agg(avg_transaction_price = ('unit psm', 'mean'))\n",
    "\n",
    "model_1 = pm.auto_arima(df1_town_monthly.loc['2010-09':'2020-08',:], seasonal = True, m=12, suppress_warnings=True) # m=seasonal length\n",
    "prediction = model_1.predict(36, return_conf_int=False,alpha=0.05)\n",
    "roi = ((prediction[-1]-df1_town_monthly.loc['2020-08'].values)/df1_town_monthly.loc['2020-08'].values)*100\n",
    "print(roi)  \n",
    "print(prediction)"
   ]
  },
  {
   "cell_type": "code",
   "execution_count": 35,
   "metadata": {},
   "outputs": [
    {
     "name": "stderr",
     "output_type": "stream",
     "text": [
      "<ipython-input-35-ccd15bc50e15>:2: SettingWithCopyWarning: \n",
      "A value is trying to be set on a copy of a slice from a DataFrame.\n",
      "Try using .loc[row_indexer,col_indexer] = value instead\n",
      "\n",
      "See the caveats in the documentation: https://pandas.pydata.org/pandas-docs/stable/user_guide/indexing.html#returning-a-view-versus-a-copy\n",
      "  df1_town['unit psm'] = df1_town['resale_price'] / df1_town['floor_area_sqm']\n"
     ]
    },
    {
     "name": "stdout",
     "output_type": "stream",
     "text": [
      "[10.90868161]\n",
      "[5015.63402768 4839.21713219 4879.17931332 4974.47224088 4956.11082036\n",
      " 4974.83419018 5012.44168195 5023.14854264 5038.52655648 5058.76308144\n",
      " 5072.25981635 5085.35893039 5099.10963344 5110.75188128 5121.52157804\n",
      " 5131.90665031 5141.30800331 5149.97884142 5158.10843353 5165.59721218\n",
      " 5172.51744909 5178.9494236  5184.89941181 5190.40487417 5195.50869443\n",
      " 5200.23446773 5204.60967806 5208.66271952 5212.41622233 5215.89202636\n",
      " 5219.11124114 5222.09261525 5224.85361567 5227.41065972 5229.77878386\n",
      " 5231.97191456]\n"
     ]
    }
   ],
   "source": [
    "df1_town = df1[df1['town'] == 'TOA PAYOH']\n",
    "df1_town['unit psm'] = df1_town['resale_price'] / df1_town['floor_area_sqm']\n",
    "df1_town_monthly = df1_town.groupby(['month']).agg(avg_transaction_price = ('unit psm', 'mean'))\n",
    "\n",
    "model_1 = pm.auto_arima(df1_town_monthly.loc['2010-09':'2020-08',:], seasonal = True, m=12, suppress_warnings=True) # m=seasonal length\n",
    "prediction = model_1.predict(36, return_conf_int=False,alpha=0.05)\n",
    "roi = ((prediction[-1]-df1_town_monthly.loc['2020-08'].values)/df1_town_monthly.loc['2020-08'].values)*100\n",
    "print(roi)  \n",
    "print(prediction)"
   ]
  },
  {
   "cell_type": "code",
   "execution_count": 36,
   "metadata": {},
   "outputs": [
    {
     "name": "stderr",
     "output_type": "stream",
     "text": [
      "<ipython-input-36-4eb33080fab7>:2: SettingWithCopyWarning: \n",
      "A value is trying to be set on a copy of a slice from a DataFrame.\n",
      "Try using .loc[row_indexer,col_indexer] = value instead\n",
      "\n",
      "See the caveats in the documentation: https://pandas.pydata.org/pandas-docs/stable/user_guide/indexing.html#returning-a-view-versus-a-copy\n",
      "  df1_town['unit psm'] = df1_town['resale_price'] / df1_town['floor_area_sqm']\n"
     ]
    },
    {
     "name": "stdout",
     "output_type": "stream",
     "text": [
      "[10.46903493]\n",
      "[3670.59954305 3670.15497566 3677.85688511 3688.48809507 3700.17261944\n",
      " 3712.23589337 3724.43535761 3736.68379301 3748.9498374  3761.2222136\n",
      " 3773.49686659 3785.77233827 3798.04810433 3810.32397625 3822.59988622\n",
      " 3834.87580989 3847.15173847 3859.42766883 3871.70359982 3883.97953104\n",
      " 3896.25546234 3908.53139367 3920.80732501 3933.08325636 3945.3591877\n",
      " 3957.63511905 3969.9110504  3982.18698174 3994.46291309 4006.73884444\n",
      " 4019.01477579 4031.29070714 4043.56663848 4055.84256983 4068.11850118\n",
      " 4080.39443253]\n"
     ]
    }
   ],
   "source": [
    "df1_town = df1[df1['town'] == 'WOODLANDS']\n",
    "df1_town['unit psm'] = df1_town['resale_price'] / df1_town['floor_area_sqm']\n",
    "df1_town_monthly = df1_town.groupby(['month']).agg(avg_transaction_price = ('unit psm', 'mean'))\n",
    "\n",
    "model_1 = pm.auto_arima(df1_town_monthly.loc['2010-09':'2020-08',:], seasonal = True, m=12, suppress_warnings=True) # m=seasonal length\n",
    "prediction = model_1.predict(36, return_conf_int=False,alpha=0.05)\n",
    "roi = ((prediction[-1]-df1_town_monthly.loc['2020-08'].values)/df1_town_monthly.loc['2020-08'].values)*100\n",
    "print(roi)  \n",
    "print(prediction)"
   ]
  },
  {
   "cell_type": "code",
   "execution_count": 37,
   "metadata": {},
   "outputs": [
    {
     "name": "stderr",
     "output_type": "stream",
     "text": [
      "<ipython-input-37-f5818388bbbc>:2: SettingWithCopyWarning: \n",
      "A value is trying to be set on a copy of a slice from a DataFrame.\n",
      "Try using .loc[row_indexer,col_indexer] = value instead\n",
      "\n",
      "See the caveats in the documentation: https://pandas.pydata.org/pandas-docs/stable/user_guide/indexing.html#returning-a-view-versus-a-copy\n",
      "  df1_town['unit psm'] = df1_town['resale_price'] / df1_town['floor_area_sqm']\n"
     ]
    },
    {
     "name": "stdout",
     "output_type": "stream",
     "text": [
      "[-1.02622008]\n",
      "[4062.69342352 4005.1559021  4034.27452191 4034.58241219 4026.51037025\n",
      " 4011.63790818 4028.97494823 4020.78838129 4018.32171883 4016.23075284\n",
      " 4022.51384022 4016.34416933 4017.44693959 4017.19937647 4018.74497709\n",
      " 4015.86359348 4017.39228084 4016.93507525 4017.24552575 4016.23172626\n",
      " 4017.15893629 4016.65867016 4016.81035002 4016.50098959 4016.90615376\n",
      " 4016.57169425 4016.71250521 4016.60064724 4016.74940245 4016.58109064\n",
      " 4016.68476622 4016.62374482 4016.67876734 4016.60740947 4016.6665083\n",
      " 4016.62793954]\n"
     ]
    }
   ],
   "source": [
    "df1_town = df1[df1['town'] == 'YISHUN']\n",
    "df1_town['unit psm'] = df1_town['resale_price'] / df1_town['floor_area_sqm']\n",
    "df1_town_monthly = df1_town.groupby(['month']).agg(avg_transaction_price = ('unit psm', 'mean'))\n",
    "\n",
    "model_1 = pm.auto_arima(df1_town_monthly.loc['2010-09':'2020-08',:], seasonal = True, m=12, suppress_warnings=True) # m=seasonal length\n",
    "prediction = model_1.predict(36, return_conf_int=False,alpha=0.05)\n",
    "roi = ((prediction[-1]-df1_town_monthly.loc['2020-08'].values)/df1_town_monthly.loc['2020-08'].values)*100\n",
    "print(roi)  \n",
    "print(prediction)"
   ]
  }
 ],
 "metadata": {
  "kernelspec": {
   "display_name": "Python 3",
   "language": "python",
   "name": "python3"
  },
  "language_info": {
   "codemirror_mode": {
    "name": "ipython",
    "version": 3
   },
   "file_extension": ".py",
   "mimetype": "text/x-python",
   "name": "python",
   "nbconvert_exporter": "python",
   "pygments_lexer": "ipython3",
   "version": "3.8.3"
  }
 },
 "nbformat": 4,
 "nbformat_minor": 4
}
