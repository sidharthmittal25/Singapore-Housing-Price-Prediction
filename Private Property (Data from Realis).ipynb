{
 "cells": [
  {
   "cell_type": "code",
   "execution_count": 1,
   "metadata": {},
   "outputs": [],
   "source": [
    "import pandas as pd\n",
    "import numpy as np\n",
    "import matplotlib.pyplot as plt\n",
    "import seaborn as sns\n",
    "from statsmodels.tsa.seasonal import seasonal_decompose\n",
    "pd.options.display.float_format = '{:.4f}'.format\n",
    "#arr_roi = []\n",
    "import glob\n",
    "import pmdarima as pm"
   ]
  },
  {
   "cell_type": "code",
   "execution_count": 2,
   "metadata": {},
   "outputs": [
    {
     "name": "stdout",
     "output_type": "stream",
     "text": [
      "[-1.70296107]\n",
      "[-3.98644272]\n",
      "[12.45884195]\n",
      "[-0.89141852]\n",
      "[10.4036446]\n",
      "[-4.65270208]\n"
     ]
    }
   ],
   "source": [
    "#This is for Private\n",
    "path =r'C:\\Users\\sidha\\Desktop\\My Files - Lenovo\\NUS\\Foundation in BA\\Group Assignemnt 1\\Step 1 data\\URA - District 1 - 7'\n",
    "filenames = glob.glob(path + \"/*.csv\")\n",
    "for filename in filenames:\n",
    "    df1 = pd.read_csv(filename)\n",
    "    df1['month_year'] = pd.to_datetime(df1['Sale Date']).dt.to_period('M')\n",
    "    df1_Private_monthly = df1.groupby(['month_year']).agg(avg_transaction_price = ('Unit Price ($ psm)', 'mean'))\n",
    "    model_1 = pm.auto_arima(df1_Private_monthly.loc[:'2020-08',:], seasonal = True, m=12, suppress_warnings=True) # m=seasonal length\n",
    "    prediction = model_1.predict(36, return_conf_int=False,alpha=0.05)\n",
    "    roi = ((prediction[-1]-df1_Private_monthly.loc['2020-08'].values)/df1_Private_monthly.loc['2020-08'].values)*100\n",
    "    print(roi)"
   ]
  }
 ],
 "metadata": {
  "kernelspec": {
   "display_name": "Python 3",
   "language": "python",
   "name": "python3"
  },
  "language_info": {
   "codemirror_mode": {
    "name": "ipython",
    "version": 3
   },
   "file_extension": ".py",
   "mimetype": "text/x-python",
   "name": "python",
   "nbconvert_exporter": "python",
   "pygments_lexer": "ipython3",
   "version": "3.8.3"
  }
 },
 "nbformat": 4,
 "nbformat_minor": 4
}
